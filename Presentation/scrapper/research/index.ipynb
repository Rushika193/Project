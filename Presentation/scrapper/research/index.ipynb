{
 "metadata": {
  "language_info": {
   "codemirror_mode": {
    "name": "ipython",
    "version": 3
   },
   "file_extension": ".py",
   "mimetype": "text/x-python",
   "name": "python",
   "nbconvert_exporter": "python",
   "pygments_lexer": "ipython3",
   "version": "3.8.3-final"
  },
  "orig_nbformat": 2,
  "kernelspec": {
   "name": "python3",
   "display_name": "Python 3",
   "language": "python"
  }
 },
 "nbformat": 4,
 "nbformat_minor": 2,
 "cells": [
  {
   "cell_type": "code",
   "execution_count": 1,
   "metadata": {},
   "outputs": [],
   "source": [
    "from elasticsearch import Elasticsearch"
   ]
  },
  {
   "cell_type": "code",
   "execution_count": 2,
   "metadata": {},
   "outputs": [],
   "source": [
    "es = Elasticsearch(hosts=[{'host': '40.114.92.165', 'port': '9210'}],http_auth=('elastic', 'elastic@123'))"
   ]
  },
  {
   "cell_type": "code",
   "execution_count": 3,
   "metadata": {},
   "outputs": [],
   "source": [
    "  source={}"
   ]
  },
  {
   "cell_type": "code",
   "execution_count": 4,
   "metadata": {},
   "outputs": [],
   "source": [
    "doc={}"
   ]
  },
  {
   "cell_type": "code",
   "execution_count": 29,
   "metadata": {},
   "outputs": [],
   "source": [
    "doc['Sitetype']=\"Blog\""
   ]
  },
  {
   "cell_type": "code",
   "execution_count": 30,
   "metadata": {},
   "outputs": [],
   "source": [
    "doc['Pagetype']=\"Webdriver\""
   ]
  },
  {
   "cell_type": "code",
   "execution_count": 31,
   "metadata": {},
   "outputs": [],
   "source": [
    "source['doc']=doc"
   ]
  },
  {
   "cell_type": "code",
   "execution_count": 32,
   "metadata": {},
   "outputs": [
    {
     "output_type": "execute_result",
     "data": {
      "text/plain": [
       "{'doc': {'Sitetype': 'Blog', 'Pagetype': 'Webdriver'}}"
      ]
     },
     "metadata": {},
     "execution_count": 32
    }
   ],
   "source": [
    "source"
   ]
  },
  {
   "cell_type": "code",
   "execution_count": 5,
   "metadata": {},
   "outputs": [
    {
     "output_type": "execute_result",
     "data": {
      "text/plain": [
       "Mt-5 tMb-5 Pl-5 Pr-5\" style=\"background-color: rgb(31, 182, 255); color: rgb(255, 255, 255);\"> Blog</span></div><div class=\"news-tit-wrp com-ele sfCol_100 Mt-0 Mb-10\" style=\"\\n                     \" data-title=\"Title\"><a class=\"news-tit Dib ff-opensans f-weight-400 Lh-22 Fs-17 tLh-26 tMb-10 mMt-0 mMb-5 mLh-28 tFs-18 mFs-12\" style=\"text-decoration: none; color: rgb(39, 39, 39);\" href=\"https://lumbini.edu.np/Blog-Detail/post/381/prize-distribution\">Prize Distribution</a></div><div class=\"news-auth-wrp com-ele Mr-15 sfCol_100 tTxAl-l Dn\" data-title=\"Author\"><div class=\"news-auth Dib Fs-14 tMr-10 mMr-15\"><a class=\"news-auth-link Dfx TxAl-m\" href=\"javascript:void(0);\"><div class=\"auth-imgIcn-wrap Dib Mr-10 tMl-0 tMr-10 mMr-10\"><img class=\"news-auth-img W-30 mW-28\" src=\"/Modules/Admin/UserManagement/UserPic/NoImage.png\"></div><span class=\"news-auth-name Dib ff-opensans f-weight-300 Fs-15 Lh-27\" style=\"color: rgb(204, 204, 204);\"> lecuser lecuser</span></a></div></div><div class=\"news-date-wrp com-ele Dfx TxAl-t Mt-5 sfCol_100 TxAl-l tTxAl-l mTxAl-l\" data-title=\"Date\"><span class=\"date-icon fa fa-calendar Dib Fs-13 tFs-13  mFs-13  Lh-18 Mr-5 tPt-5 tMr-10 mLh-27 mMr-10 Dn\" style=\"color: rgb(204, 204, 204);\"></span><span class=\"news-date ff-opensans f-weight-300 Lh-18 Fs-13 tLh-18 tMt-0 tPt-5 mFs-14 mLh-25 tFs-12 mPl-5 tPl-5\" style=\"color: rgb(204, 204, 204);\">16 March, 2020</span></div></div><div class=\"news-cont3 Dfx flxWrp news-cont sfCol_100 TxAl-l Pt-0 Pl-0 Pr-0 Pb-0 tPb-0 tPt-0 mPl-0 mPr-0 mPb-0 tPl-0 tPr-0\"></div></div></div><div class=\"news-item-wrp Dfx flxWrp tsfCol_100 sfCol_100 msfCol_100\"><div class=\"news-item Dfx flxWrp Pt-0 Pr-0 Pb-0 Pl-0 tPt-0 tPr-0 tPb-0 tPl-0 tMb-20 Mb-20 mMb-20 Mr-0 Ml-0 tMl-0 tMr-5 mMl-0 mMr-0 TxAl-t  \" style=\"border-radius: 0px; border: 0px rgba(221, 221, 221, 0.294); width: 100%; align-self: stretch; background-color: rgb(255, 255, 255);\"><div class=\"news-cont1 Dfx flxWrp news-cont Pt-0 Pb-0 Pl-0 msfCol_100 TxAl-l Pr-20 sfCol_30\"><div class=\"news-sum-wrp com-ele sfCol_100 Mb-15 Dn\" data-title=\"Summary\"><span class=\"news-sum Dib ff-opensans f-weight-300 mLh-31 mFs-16 tFs-17 Fs-15 Lh-24 tLh-27 tMb-5 mMb-15\" style=\"color: rgb(40, 40, 40);\">Women\\'s Day celebrated with awareness of Corona virus</span></div><div class=\"news-btn-wrp com-ele sfCol_100 TxAl-r Dn\" data-title=\"Detail Button\"><a class=\"news-btn Dib ff-opensans txU f-weight-600 Pt-0 Pr-0 Pb-0 Pl-0 Fs-12 Lh-14 tLh-24 tFs-14 mFs-13 mLh-21\" style=\"text-decoration: none; border-radius: 5px; background-color: rgba(255, 255, 255, 0); color: rgb(255, 36, 0);\" href=\"https://lumbini.edu.np/Blog-Detail/post/380/women-day-2076-and-awareness-about-corona-virus\">Read More</a></div><div class=\"news-img-wrp com-ele TxAl-c Dib fit-image tH-119 ofH sfCol_100 H-70 msfCol_100 mH-180\" style=\"display: block;\" data-title=\"Image\"><a href=\"https://lumbini.edu.np/Blog-Detail/post/380/women-day-2076-and-awareness-about-corona-virus\"><img class=\"H-70 mH-180 visProceed\" style=\"width: 100%;\" src=\"/mediathumb/medium/Media/women_day.jpg\" data-cimage=\"/mediathumb/medium/Media/women_day.jpg\"></a></div></div><div class=\"news-cont2 Dfx flxWrp news-cont TxAl-l Ml-0 tPr-15 mPb-10 Pt-0 tPt-0 msfCol_100 tPl-20 Pl-0 Pr--5 Pr-0 Pb-0 sfCol_70 mPl-0 mPr-5 TxAl-t mTxAl-l mPt-0\"><div class=\"news-cat-wrp com-ele sfCol_100 Mt-5 Mb-10 Dn\" data-title=\"Category\"><span class=\"news-cat Dib ff-opensans txU f-weight-600 Fs-14 Lh-21 tMt-5 tMb-5 Pl-5 Pr-5\" style=\"background-color: rgb(31, 182, 255); color: rgb(255, 255, 255);\"> Blog</span></div><div class=\"news-tit-wrp com-ele sfCol_100 Mt-0 Mb-10\" style=\"\\n                     \" data-title=\"Title\"><a class=\"news-tit Dib ff-opensans f-weight-400 Lh-22 Fs-17 tLh-26 tMb-10 mMt-0 mMb-5 mLh-28 tFs-18 mFs-12\" style=\"text-decoration: none; color: rgb(39, 39, 39);\" href=\"https://lumbini.edu.np/Blog-Detail/post/380/women-day-2076-and-awareness-about-corona-virus\">Women Day 2076 and awareness about corona virus </a></div><div class=\"news-auth-wrp com-ele Mr-15 sfCol_100 tTxAl-l Dn\" data-title=\"Author\"><div class=\"news-auth Dib Fs-14 tMr-10 mMr-15\"><a class=\"news-auth-link Dfx TxAl-m\" href=\"javascript:void(0);\"><div class=\"auth-imgIcn-wrap Dib Mr-10 tMl-0 tMr-10 mMr-10\"><img class=\"news-auth-img W-30 mW-28\" src=\"/Modules/Admin/UserManagement/UserPic/NoImage.png\"></div><span class=\"news-auth-name Dib ff-opensans f-weight-300 Fs-15 Lh-27\" style=\"color: rgb(204, 204, 204);\"> lecuser lecuser</span></a></div></div><div class=\"news-date-wrp com-ele Dfx TxAl-t Mt-5 sfCol_100 TxAl-l tTxAl-l mTxAl-l\" data-title=\"Date\"><span class=\"date-icon fa fa-calendar Dib Fs-13 tFs-13  mFs-13  Lh-18 Mr-5 tPt-5 tMr-10 mLh-27 mMr-10 Dn\" style=\"color: rgb(204, 204, 204);\"></span><span class=\"news-date ff-opensans f-weight-300 Lh-18 Fs-13 tLh-18 tMt-0 tPt-5 mFs-14 mLh-25 tFs-12 mPl-5 tPl-5\" style=\"color: rgb(204, 204, 204);\">11 March, 2020</span></div></div><div class=\"news-cont3 Dfx flxWrp news-cont sfCol_100 TxAl-l Pt-0 Pl-0 Pr-0 Pb-0 tPb-0 tPt-0 mPl-0 mPr-0 mPb-0 tPl-0 tPr-0\"></div></div></div><div class=\"news-item-wrp Dfx flxWrp tsfCol_100 sfCol_100 msfCol_100\"><div class=\"news-item Dfx flxWrp Pt-0 Pr-0 Pb-0 Pl-0 tPt-0 tPr-0 tPb-0 tPl-0 tMb-20 Mb-20 mMb-20 Mr-0 Ml-0 tMl-0 tMr-5 mMl-0 mMr-0 TxAl-t  \" style=\"border-radius: 0px; border: 0px rgba(221, 221, 221, 0.294); width: 100%; align-self: stretch; background-color: rgb(255, 255, 255);\"><div class=\"news-cont1 Dfx flxWrp news-cont Pt-0 Pb-0 Pl-0 msfCol_100 TxAl-l Pr-20 sfCol_30\"><div class=\"news-sum-wrp com-ele sfCol_100 Mb-15 Dn\" data-title=\"Summary\"><span class=\"news-sum Dib ff-opensans f-weight-300 mLh-31 mFs-16 tFs-17 Fs-15 Lh-24 tLh-27 tMb-5 mMb-15\" style=\"color: rgb(40, 40, 40);\">.</span></div><div class=\"news-btn-wrp com-ele sfCol_100 TxAl-r Dn\" data-title=\"Detail Button\"><a class=\"news-btn Dib ff-opensans txU f-weight-600 Pt-0 Pr-0 Pb-0 Pl-0 Fs-12 Lh-14 tLh-24 tFs-14 mFs-13 mLh-21\" style=\"text-decoration: none; border-radius: 5px; background-color: rgba(255, 255, 255, 0); color: rgb(255, 36, 0);\" href=\"https://lumbini.edu.np/Blog-Detail/post/379/expo-2020\">Read More</a></div><div class=\"news-img-wrp com-ele TxAl-c Dib fit-image tH-119 ofH sfCol_100 H-70 msfCol_100 mH-180\" style=\"display: block;\" data-title=\"Image\"><a href=\"https://lumbini.edu.np/Blog-Detail/post/379/expo-2020\"><img class=\"H-70 mH-180 visProceed\" style=\"width: 100%;\" src=\"/mediathumb/medium/Media/img_3749.jpg\" data-cimage=\"/mediathumb/medium/Media/img_3749.jpg\"></a></div></div><div class=\"news-cont2 Dfx flxWrp news-cont TxAl-l Ml-0 tPr-15 mPb-10 Pt-0 tPt-0 msfCol_100 tPl-20 Pl-0 Pr--5 Pr-0 Pb-0 sfCol_70 mPl-0 mPr-5 TxAl-t mTxAl-l mPt-0\"><div class=\"news-cat-wrp com-ele sfCol_100 Mt-5 Mb-10 Dn\" data-title=\"Category\"><span class=\"news-cat Dib ff-opensans txU f-weight-600 Fs-14 Lh-21 tMt-5 tMb-5 Pl-5 Pr-5\" style=\"background-color: rgb(31, 182, 255); color: rgb(255, 255, 255);\"> Blog</span></div><div class=\"news-tit-wrp com-ele sfCol_100 Mt-0 Mb-10\" style=\"\\n                     \" data-title=\"Title\"><a class=\"news-tit Dib ff-opensans f-weight-400 Lh-22 Fs-17 tLh-26 tMb-10 mMt-0 mMb-5 mLh-28 tFs-18 mFs-12\" style=\"text-decoration: none; color: rgb(39, 39, 39);\" href=\"https://lumbini.edu.np/Blog-Detail/post/379/expo-2020\">Expo 2020</a></div><div class=\"news-auth-wrp com-ele Mr-15 sfCol_100 tTxAl-l Dn\" data-title=\"Author\"><div class=\"news-auth Dib Fs-14 tMr-10 mMr-15\"><a class=\"news-auth-link Dfx TxAl-m\" href=\"javascript:void(0);\"><div class=\"auth-imgIcn-wrap Dib Mr-10 tMl-0 tMr-10 mMr-10\"><img class=\"news-auth-img W-30 mW-28\" src=\"/Modules/Admin/UserManagement/UserPic/NoImage.png\"></div><span class=\"news-auth-name Dib ff-opensans f-weight-300 Fs-15 Lh-27\" style=\"color: rgb(204, 204, 204);\"> lecuser lecuser</span></a></div></div><div class=\"news-date-wrp com-ele Dfx TxAl-t Mt-5 sfCol_100 TxAl-l tTxAl-l mTxAl-l\" data-title=\"Date\"><span class=\"date-icon fa fa-calendar Dib Fs-13 tFs-13  mFs-13  Lh-18 Mr-5 tPt-5 tMr-10 mLh-27 mMr-10 Dn\" style=\"color: rgb(204, 204, 204);\"></span><span class=\"news-date ff-opensans f-weight-300 Lh-18 Fs-13 tLh-18 tMt-0 tPt-5 mFs-14 mLh-25 tFs-12 mPl-5 tPl-5\" style=\"color: rgb(204, 204, 204);\">28 February, 2020</span></div></div><div class=\"news-cont3 Dfx flxWrp news-cont sfCol_100 TxAl-l Pt-0 Pl-0 Pr-0 Pb-0 tPb-0 tPt-0 mPl-0 mPr-0 mPb-0 tPl-0 tPr-0\"></div></div></div><div class=\"news-item-wrp Dfx flxWrp tsfCol_100 sfCol_100 msfCol_100\"><div class=\"news-item Dfx flxWrp Pt-0 Pr-0 Pb-0 Pl-0 tPt-0 tPr-0 tPb-0 tPl-0 tMb-20 Mb-20 mMb-20 Mr-0 Ml-0 tMl-0 tMr-5 mMl-0 mMr-0 TxAl-t  \" style=\"border-radius: 0px; border: 0px rgba(221, 221, 221, 0.294); width: 100%; align-self: stretch; background-color: rgb(255, 255, 255);\"><div class=\"news-cont1 Dfx flxWrp news-cont Pt-0 Pb-0 Pl-0 msfCol_100 TxAl-l Pr-20 sfCol_30\"><div class=\"news-sum-wrp com-ele sfCol_100 Mb-15 Dn\" data-title=\"Summary\"><span class=\"news-sum Dib ff-opensans f-weight-300 mLh-31 mFs-16 tFs-17 Fs-15 Lh-24 tLh-27 tMb-5 mMb-15\" style=\"color: rgb(40, 40, 40);\">.</span></div><div class=\"news-btn-wrp com-ele sfCol_100 TxAl-r Dn\" data-title=\"Detail Button\"><a class=\"news-btn Dib ff-opensans txU f-weight-600 Pt-0 Pr-0 Pb-0 Pl-0 Fs-12 Lh-14 tLh-24 tFs-14 mFs-13 mLh-21\" style=\"text-decoration: none; border-radius: 5px; background-color: rgba(255, 255, 255, 0); color: rgb(255, 36, 0);\" href=\"https://lumbini.edu.np/Blog-Detail/post/378/cloud-seminar\">Read More</a></div><div class=\"news-img-wrp com-ele TxAl-c Dib fit-image tH-119 ofH sfCol_100 H-70 msfCol_100 mH-180\" style=\"display: block;\" data-title=\"Image\"><a href=\"https://lumbini.edu.np/Blog-Detail/post/378/cloud-seminar\"><img class=\"H-70 mH-180 visProceed\" style=\"width: 100%;\" src=\"/mediathumb/medium/Media/cloud.jpg\" data-cimage=\"/mediathumb/medium/Media/cloud.jpg\"></a></div></div><div class=\"news-cont2 Dfx flxWrp news-cont TxAl-l Ml-0 tPr-15 mPb-10 Pt-0 tPt-0 msfCol_100 tPl-20 Pl-0 Pr--5 Pr-0 Pb-0 sfCol_70 mPl-0 mPr-5 TxAl-t mTxAl-l mPt-0\"><div class=\"news-cat-wrp com-ele sfCol_100 Mt-5 Mb-10 Dn\" data-title=\"Category\"><span class=\"news-cat Dib ff-opensans txU f-weight-600 Fs-14 Lh-21 tMt-5 tMb-5 Pl-5 Pr-5\" style=\"background-color: rgb(31, 182, 255); color: rgb(255, 255, 255);\"> Blog</span></div><div class=\"news-tit-wrp com-ele sfCol_100 Mt-0 Mb-10\" style=\"\\n                     \" data-title=\"Title\"><a class=\"news-tit Dib ff-opensans f-weight-400 Lh-22 Fs-17 tLh-26 tMb-10 mMt-0 mMb-5 mLh-28 tFs-18 mFs-12\" style=\"text-decoration: none; color: rgb(39, 39, 39);\" href=\"https://lumbini.edu.np/Blog-Detail/post/378/cloud-seminar\">Cloud Seminar </a></div><div class=\"news-auth-wrp com-ele Mr-15 sfCol_100 tTxAl-l Dn\" data-title=\"Author\"><div class=\"news-auth Dib Fs-14 tMr-10 mMr-15\"><a class=\"news-auth-link Dfx TxAl-m\" href=\"javascript:void(0);\"><div class=\"auth-imgIcn-wrap Dib Mr-10 tMl-0 tMr-10 mMr-10\"><img class=\"news-auth-img W-30 mW-28\" src=\"/Modules/Admin/UserManagement/UserPic/NoImage.png\"></div><span class=\"news-auth-name Dib ff-opensans f-weight-300 Fs-15 Lh-27\" style=\"color: rgb(204, 204, 204);\"> lecuser lecuser</span></a></div></div><div class=\"news-date-wrp com-ele Dfx TxAl-t Mt-5 sfCol_100 TxAl-l tTxAl-l mTxAl-l\" data-title=\"Date\"><span class=\"date-icon fa fa-calendar Dib Fs-13 tFs-13  mFs-13  Lh-18 Mr-5 tPt-5 tMr-10 mLh-27 mMr-10 Dn\" style=\"color: rgb(204, 204, 204);\"></span><span class=\"news-date ff-opensans f-weight-300 Lh-18 Fs-13 tLh-18 tMt-0 tPt-5 mFs-14 mLh-25 tFs-12 mPl-5 tPl-5\" style=\"color: rgb(204, 204, 204);\">05 February, 2020</span></div></div><div class=\"news-cont3 Dfx flxWrp news-cont sfCol_100 TxAl-l Pt-0 Pl-0 Pr-0 Pb-0 tPb-0 tPt-0 mPl-0 mPr-0 mPb-0 tPl-0 tPr-0\"></div></div></div><div class=\"news-item-wrp Dfx flxWrp tsfCol_100 sfCol_100 msfCol_100\"><div class=\"news-item Dfx flxWrp Pt-0 Pr-0 Pb-0 Pl-0 tPt-0 tPr-0 tPb-0 tPl-0 tMb-20 Mb-20 mMb-20 Mr-0 Ml-0 tMl-0 tMr-5 mMl-0 mMr-0 TxAl-t  \" style=\"border-radius: 0px; border: 0px rgba(221, 221, 221, 0.294); width: 100%; align-self: stretch; background-color: rgb(255, 255, 255);\"><div class=\"news-cont1 Dfx flxWrp news-cont Pt-0 Pb-0 Pl-0 msfCol_100 TxAl-l Pr-20 sfCol_30\"><div class=\"news-sum-wrp com-ele sfCol_100 Mb-15 Dn\" data-title=\"Summary\"><span class=\"news-sum Dib ff-opensans f-weight-300 mLh-31 mFs-16 tFs-17 Fs-15 Lh-24 tLh-27 tMb-5 mMb-15\" style=\"color: rgb(40, 40, 40);\">.</span></div><div class=\"news-btn-wrp com-ele sfCol_100 TxAl-r Dn\" data-title=\"Detail Button\"><a class=\"news-btn Dib ff-opensans txU f-weight-600 Pt-0 Pr-0 Pb-0 Pl-0 Fs-12 Lh-14 tLh-24 tFs-14 mFs-13 mLh-21\" style=\"text-decoration: none; border-radius: 5px; background-color: rgba(255, 255, 255, 0); color: rgb(255, 36, 0);\" href=\"https://lumbini.edu.np/Blog-Detail/post/376/incentives\">Read More</a></div><div class=\"news-img-wrp com-ele TxAl-c Dib fit-image tH-119 ofH sfCol_100 H-70 msfCol_100 mH-180\" style=\"display: block;\" data-title=\"Image\"><a href=\"https://lumbini.edu.np/Blog-Detail/post/376/incentives\"><img class=\"H-70 mH-180 visProceed\" style=\"width: 100%;\" src=\"/mediathumb/medium/Media/incentive.jpg\" data-cimage=\"/mediathumb/medium/Media/incentive.jpg\"></a></div></div><div class=\"news-cont2 Dfx flxWrp news-cont TxAl-l Ml-0 tPr-15 mPb-10 Pt-0 tPt-0 msfCol_100 tPl-20 Pl-0 Pr--5 Pr-0 Pb-0 sfCol_70 mPl-0 mPr-5 TxAl-t mTxAl-l mPt-0\"><div class=\"news-cat-wrp com-ele sfCol_100 Mt-5 Mb-10 Dn\" data-title=\"Category\"><span class=\"news-cat Dib ff-opensans txU f-weight-600 Fs-14 Lh-21 tMt-5 tMb-5 Pl-5 Pr-5\" style=\"background-color: rgb(31, 182, 255); color: rgb(255, 255, 255);\"> Blog</span></div><div class=\"news-tit-wrp com-ele sfCol_100 Mt-0 Mb-10\" style=\"\\n                     \" data-title=\"Title\"><a class=\"news-tit Dib ff-opensans f-weight-400 Lh-22 Fs-17 tLh-26 tMb-10 mMt-0 mMb-5 mLh-28 tFs-18 mFs-12\" style=\"text-decoration: none; color: rgb(39, 39, 39);\" href=\"https://lumbini.edu.np/Blog-Detail/post/376/incentives\">Incentives </a></div><div class=\"news-auth-wrp com-ele Mr-15 sfCol_100 tTxAl-l Dn\" data-title=\"Author\"><div class=\"news-auth Dib Fs-14 tMr-10 mMr-15\"><a class=\"news-auth-link Dfx TxAl-m\" href=\"javascript:void(0);\"><div class=\"auth-imgIcn-wrap Dib Mr-10 tMl-0 tMr-10 mMr-10\"><img class=\"news-auth-img W-30 mW-28\" src=\"/Modules/Admin/UserManagement/UserPic/NoImage.png\"></div><span class=\"news-auth-name Dib ff-opensans f-weight-300 Fs-15 Lh-27\" style=\"color: rgb(204, 204, 204);\"> lecuser lecuser</span></a></div></div><div class=\"news-date-wrp com-ele Dfx TxAl-t Mt-5 sfCol_100 TxAl-l tTxAl-l mTxAl-l\" data-title=\"Date\"><span class=\"date-icon fa fa-calendar Dib Fs-13 tFs-13  mFs-13  Lh-18 Mr-5 tPt-5 tMr-10 mLh-27 mMr-10 Dn\" style=\"color: rgb(204, 204, 204);\"></span><span class=\"news-date ff-opensans f-weight-300 Lh-18 Fs-13 tLh-18 tMt-0 tPt-5 mFs-14 mLh-25 tFs-12 mPl-5 tPl-5\" style=\"color: rgb(204, 204, 204);\">13 January, 2020</span></div></div><div class=\"news-cont3 Dfx flxWrp news-cont sfCol_100 TxAl-l Pt-0 Pl-0 Pr-0 Pb-0 tPb-0 tPt-0 mPl-0 mPr-0 mPb-0 tPl-0 tPr-0\"></div></div></div><div class=\"news-item-wrp Dfx flxWrp tsfCol_100 sfCol_100 msfCol_100\"><div class=\"news-item Dfx flxWrp Pt-0 Pr-0 Pb-0 Pl-0 tPt-0 tPr-0 tPb-0 tPl-0 tMb-20 Mb-20 mMb-20 Mr-0 Ml-0 tMl-0 tMr-5 mMl-0 mMr-0 TxAl-t  \" style=\"border-radius: 0px; border: 0px rgba(221, 221, 221, 0.294); width: 100%; align-self: stretch; background-color: rgb(255, 255, 255);\"><div class=\"news-cont1 Dfx flxWrp news-cont Pt-0 Pb-0 Pl-0 msfCol_100 TxAl-l Pr-20 sfCol_30\"><div class=\"news-sum-wrp com-ele sfCol_100 Mb-15 Dn\" data-title=\"Summary\"><span class=\"news-sum Dib ff-opensans f-weight-300 mLh-31 mFs-16 tFs-17 Fs-15 Lh-24 tLh-27 tMb-5 mMb-15\" style=\"color: rgb(40, 40, 40);\">MSTC</span></div><div class=\"news-btn-wrp com-ele sfCol_100 TxAl-r Dn\" data-title=\"Detail Button\"><a class=\"news-btn Dib ff-opensans txU f-weight-600 Pt-0 Pr-0 Pb-0 Pl-0 Fs-12 Lh-14 tLh-24 tFs-14 mFs-13 mLh-21\" style=\"text-decoration: none; border-radius: 5px; background-color: rgba(255, 255, 255, 0); color: rgb(255, 36, 0);\" href=\"https://lumbini.edu.np/Blog-Detail/post/375/mstcii\">Read More</a></div><div class=\"news-img-wrp com-ele TxAl-c Dib fit-image tH-119 ofH sfCol_100 H-70 msfCol_100 mH-180\" style=\"display: block;\" data-title=\"Image\"><a href=\"https://lumbini.edu.np/Blog-Detail/post/375/mstcii\"><img class=\"H-70 mH-180 visProceed\" style=\"width: 100%;\" src=\"/mediathumb/medium/Media/mstc.jpg\" data-cimage=\"/mediathumb/medium/Media/mstc.jpg\"></a></div></div><div class=\"news-cont2 Dfx flxWrp news-cont TxAl-l Ml-0 tPr-15 mPb-10 Pt-0 tPt-0 msfCol_100 tPl-20 Pl-0 Pr--5 Pr-0 Pb-0 sfCol_70 mPl-0 mPr-5 TxAl-t mTxAl-l mPt-0\"><div class=\"news-cat-wrp com-ele sfCol_100 Mt-5 Mb-10 Dn\" data-title=\"Category\"><span class=\"news-cat Dib ff-opensans txU f-weight-600 Fs-14 Lh-21 tMt-5 tMb-5 Pl-5 Pr-5\" style=\"background-color: rgb(31, 182, 255); color: rgb(255, 255, 255);\"> Blog</span></div><div class=\"news-tit-wrp com-ele sfCol_100 Mt-0 Mb-10\" style=\"\\n                     \" data-title=\"Title\"><a class=\"news-tit Dib ff-opensans f-weight-400 Lh-22 Fs-17 tLh-26 tMb-10 mMt-0 mMb-5 mLh-28 tFs-18 mFs-12\" style=\"text-decoration: none; color: rgb(39, 39, 39);\" href=\"https://lumbini.edu.np/Blog-Detail/post/375/mstcii\">MSTCII</a></div><div class=\"news-auth-wrp com-ele Mr-15 sfCol_100 tTxAl-l Dn\" data-title=\"Author\"><div class=\"news-auth Dib Fs-14 tMr-10 mMr-15\"><a class=\"news-auth-link Dfx TxAl-m\" href=\"javascript:void(0);\"><div class=\"auth-imgIcn-wrap Dib Mr-10 tMl-0 tMr-10 mMr-10\"><img class=\"news-auth-img W-30 mW-28\" src=\"/Modules/Admin/UserManagement/UserPic/NoImage.png\"></div><span class=\"news-auth-name Dib ff-opensans f-weight-300 Fs-15 Lh-27\" style=\"color: rgb(204, 204, 204);\"> lecuser lecuser</span></a></div></div><div class=\"news-date-wrp com-ele Dfx TxAl-t Mt-5 sfCol_100 TxAl-l tTxAl-l mTxAl-l\" data-title=\"Date\"><span class=\"date-icon fa fa-calendar Dib Fs-13 tFs-13  mFs-13  Lh-18 Mr-5 tPt-5 tMr-10 mLh-27 mMr-10 Dn\" style=\"color: rgb(204, 204, 204);\"></span><span class=\"news-date ff-opensans f-weight-300 Lh-18 Fs-13 tLh-18 tMt-0 tPt-5 mFs-14 mLh-25 tFs-12 mPl-5 tPl-5\" style=\"color: rgb(204, 204, 204);\">22 December, 2019</span></div></div><div class=\"news-cont3 Dfx flxWrp news-cont sfCol_100 TxAl-l Pt-0 Pl-0 Pr-0 Pb-0 tPb-0 tPt-0 mPl-0 mPr-0 mPb-0 tPl-0 tPr-0\"></div></div></div></div><div class=\"btnMoreNewsWrap\" style=\"\"><span class=\"btnLoadMorePost btnMoreItems Dib Mb-25 Mt-25 Fs-12 LtrSpc-1 Pt-10 Pr-10 Pb-10 Pl-10 hovered tPt-10 tPr-10 tPb-10 tPl-10 tFs-12 tLh-8 mPt-10 mPr-10 mPb-10 mPl-10 mLh-5 mFs-12 mMt-20 mMb-20 tMt-20 tMb-20 f-weight-600\" style=\"cursor: pointer; border-radius: 2px; background-color: rgb(63, 74, 149); color: rgb(250, 250, 250); box-shadow: rgb(63, 74, 149) 0px 0px 0px 0px; border-style: none; border-width: 0px; border-color: rgb(0, 0, 0);\" hovered-mousein=\"out\" data-hovereffect=\"{{&quot;bg&quot;:&quot;rgba(197, 196, 196,0.9508928571428571)&quot;,&quot;font&quot;:&quot;rgba(14, 14, 14,1)&quot;,&quot;box&quot;:{{&quot;on&quot;:&quot;off&quot;,&quot;hl&quot;:&quot;0px&quot;,&quot;vl&quot;:&quot;0px&quot;,&quot;br&quot;:&quot;0px&quot;,&quot;c&quot;:&quot;#000&quot;,&quot;i&quot;:&quot;false&quot;}},&quot;border&quot;:{{&quot;on&quot;:&quot;none&quot;,&quot;top&quot;:&quot;0&quot;,&quot;right&quot;:&quot;0&quot;,&quot;bottom&quot;:&quot;0&quot;,&quot;left&quot;:&quot;0&quot;,&quot;tc&quot;:&quot;#000&quot;,&quot;rc&quot;:&quot;#000&quot;,&quot;bc&quot;:&quot;#000&quot;,&quot;lc&quot;:&quot;#000&quot;}},&quot;zoom&quot;:&quot;10&quot;,&quot;delay&quot;:0}}\">Load More</span></div></div></div></div></div></div>',\n",
       "     'componentOrderJson': ['text',\n",
       "      'text',\n",
       "      'button',\n",
       "      'button',\n",
       "      'button',\n",
       "      'button',\n",
       "      'button'],\n",
       "     'bgImage': 0,\n",
       "     'componentContentLength': {'button0': 8,\n",
       "      'button1': 10,\n",
       "      'button2': 16,\n",
       "      'button3': 12,\n",
       "      'button4': 35,\n",
       "      'text0': 83,\n",
       "      'text1': 11},\n",
       "     'imagePath': 'static/screenshot/jCn0EsOm2Fgq7aOD.png',\n",
       "     'domain': 'https://lumbini.edu.np/',\n",
       "     'pageUrl': 'https://lumbini.edu.np/Downloads',\n",
       "     'verification': {'user': '', 'status': False},\n",
       "     'scrapeDate': '2021/01/26 04:51:49'}}]}}"
      ]
     },
     "metadata": {},
     "execution_count": 5
    }
   ],
   "source": [
    "es.search(index=\"live_site_data\",body={\n",
    "            \n",
    "            \"query\":{\n",
    "                \"bool\":{\n",
    "                    \"must\":[\n",
    "                        {\n",
    "                            \"match\":{ \n",
    "                                \"_id\":\"zc4ya3cBAa3IabEODx7W\"\n",
    "                            }\n",
    "                        }\n",
    "                    ]\n",
    "                }\n",
    "            }\n",
    "        })  "
   ]
  },
  {
   "cell_type": "code",
   "execution_count": null,
   "metadata": {
    "tags": []
   },
   "outputs": [],
   "source": [
    "es.update(index=\"live_site_data\",id=\"vUIAPXcB9z14MoqeeHaV\",body=source)"
   ]
  },
  {
   "cell_type": "code",
   "execution_count": 8,
   "metadata": {},
   "outputs": [],
   "source": [
    "res=es.search(index='live_site_data',body={\n",
    "            \n",
    "            \"query\":{\n",
    "                \"bool\":{\n",
    "                    \"must\":[\n",
    "                        {\n",
    "                            \"match\":{ \n",
    "                                \"_id\":\"zs4ya3cBAa3IabEOER48\"\n",
    "                            }\n",
    "                        }\n",
    "                    ]\n",
    "                }\n",
    "            }\n",
    "        }) "
   ]
  },
  {
   "cell_type": "code",
   "execution_count": 23,
   "metadata": {},
   "outputs": [
    {
     "output_type": "stream",
     "name": "stdout",
     "text": [
      "Blog\n"
     ]
    }
   ],
   "source": [
    "for i in res['hits']['hits']:\n",
    "    print(i['_source']['Pagetype'])\n",
    "    sitetype=i['_source']['Sitetype']\n",
    "    Remarks=i['_source']['Remarks']"
   ]
  },
  {
   "cell_type": "code",
   "execution_count": 9,
   "metadata": {},
   "outputs": [
    {
     "output_type": "execute_result",
     "data": {
      "text/plain": [
       "{'took': 0,\n",
       " 'timed_out': False,\n",
       " '_shards': {'total': 1, 'successful': 1, 'skipped': 0, 'failed': 0},\n",
       " 'hits': {'total': {'value': 1, 'relation': 'eq'},\n",
       "  'max_score': 1.0,\n",
       "  'hits': [{'_index': 'live_site_data',\n",
       "    '_type': '_doc',\n",
       "    '_id': 'zs4ya3cBAa3IabEOER48',\n",
       "    '_score': 1.0,\n",
       "    '_source': {'type': 'row',\n",
       "     'properties': {'backgroundImage': False},\n",
       "     'components': ['column',\n",
       "      'holder',\n",
       "      'menu',\n",
       "      'holder',\n",
       "      'social link',\n",
       "      'font icon',\n",
       "      'font icon',\n",
       "      'font icon',\n",
       "      'holder',\n",
       "      'Image Link',\n",
       "      'text',\n",
       "      'text link'],\n",
       "     'count': [{'ImageLink': 1},\n",
       "      {'fonticon': 3},\n",
       "      {'menu': 1},\n",
       "      {'sociallink': 1},\n",
       "      {'text': 1},\n",
       "      {'textlink': 1},\n",
       "      {'image': 0}],\n",
       "     'componentCount': 7,\n",
       "     'nodes': ['column'],\n",
       "     'child': [{'type': 'column',\n",
       "       'properties': {'backgroundImage': False},\n",
       "       'components': ['holder',\n",
       "        'menu',\n",
       "        'holder',\n",
       "        'social link',\n",
       "        'font icon',\n",
       "        'font icon',\n",
       "        'font icon',\n",
       "        'holder',\n",
       "        'Image Link',\n",
       "        'text',\n",
       "        'text link'],\n",
       "       'nodes': ['holder', 'holder', 'holder'],\n",
       "       'child': [{'type': 'holder',\n",
       "         'properties': {'backgroundImage': False},\n",
       "         'components': ['menu'],\n",
       "         'nodes': ['menu'],\n",
       "         'child': [{'type': 'menu',\n",
       "           'properties': {'backgroundImage': False},\n",
       "           'components': [],\n",
       "           'nodes': [],\n",
       "           'child': []}]},\n",
       "        {'type': 'holder',\n",
       "         'properties': {'backgroundImage': False},\n",
       "         'components': ['social link', 'font icon', 'font icon', 'font icon'],\n",
       "         'nodes': ['social link'],\n",
       "         'child': [{'type': 'social link',\n",
       "           'properties': {'backgroundImage': False},\n",
       "           'components': ['font icon', 'font icon', 'font icon'],\n",
       "           'nodes': ['font icon', 'font icon', 'font icon'],\n",
       "           'child': [{'type': 'font icon',\n",
       "             'properties': {'backgroundImage': False},\n",
       "             'components': [],\n",
       "             'nodes': [],\n",
       "             'child': []},\n",
       "            {'type': 'font icon',\n",
       "             'properties': {'backgroundImage': False},\n",
       "             'components': [],\n",
       "             'nodes': [],\n",
       "             'child': []},\n",
       "            {'type': 'font icon',\n",
       "             'properties': {'backgroundImage': False},\n",
       "             'components': [],\n",
       "             'nodes': [],\n",
       "             'child': []}]}]},\n",
       "        {'type': 'holder',\n",
       "         'properties': {'backgroundImage': False},\n",
       "         'components': ['Image Link', 'text', 'text link'],\n",
       "         'nodes': ['Image Link', 'text', 'text link'],\n",
       "         'child': [{'type': 'Image Link',\n",
       "           'properties': {'backgroundImage': False},\n",
       "           'components': [],\n",
       "           'nodes': [],\n",
       "           'child': []},\n",
       "          {'type': 'text',\n",
       "           'properties': {'backgroundImage': False},\n",
       "           'components': [],\n",
       "           'nodes': [],\n",
       "           'child': []},\n",
       "          {'type': 'text link',\n",
       "           'properties': {'backgroundImage': False},\n",
       "           'components': [],\n",
       "           'nodes': [],\n",
       "           'child': []}]}]}],\n",
       "     'template': '<div class=\"cRow TxAl-c Pt-40 Pb-40 tPt-70 tPb-70 mPt-50 mPb-50 mPl-20 mPr-20 tPl-40 tPr-40\" style=\"background-color: rgb(63, 74, 149);\" data-type=\"row\" data-backgroundimage=\"\" data-backgroundcolor=\"color\" data-id=\"4\"><div class=\"editor-row-container container-large\"><div class=\"cGrid \"><div class=\"editor-col cCol ui-state-default sfFixed  mMt-0 mMb-0 mPt-0 mPr-0 mPb-0 mPl-0 mTxAl-n mTxAl-o mDib tDib tMt-0 tMb-0 tPt-0 tPr-0 tPb-0 tPl-0 tTxAl-n tTxAl-o Pt-0 Pr-0 Pb-0 Pl-0 TxAl-o sfCol_100 tsfCol_100 msfCol_100 TxAl-l\" data-type=\"column\"><div class=\"menuWrapper\" data-type=\"menu\" data-id=\"136\"></div><div class=\"editor-component sfFixed holder tsfCol_100 tDib msfCol_100 mDib sfCol_50 tTxAl-c mTxAl-c\" data-type=\"holder\" data-id=\"138\"><div class=\"editor-col ui-state-default sfFixed sfCol_100\" style=\"min-height:100px;\"><div class=\"editor-component webMenu clearfix editor-com-outerSpacing-top-10 editor-com-outerSpacing-right-10 editor-com-outerSpacing-left-10 text-align-center editor-com-outerSpacing-bottom-25 Ml-0 sfCol_100 Mt-15 tMl-0 tMt-10 mMl-0 mMt-10\" style=\"display: block;\" data-type=\"menu\"><div class=\"menuWrapper sfCol_100\"><nav class=\"menus Dib\"><ul class=\"menulist eb-menu horizontal Dfx flxWrp mTxAl-c\" data-textbgcolor=\"\" data-navlinktextcol=\"rgba(255, 255, 255,1)\" data-textcolor=\"rgba(255, 255, 255,1)\" data-menu=\"horizontal\"><li style=\"\" data-webbuilderid=\"4\" data-pageid=\"2109\"><a class=\"pagelink\" style=\"border-width: 0px; line-height: 24px;\" href=\"https://lumbini.edu.np/Home\"><span class=\"pageName editor-text-letterSpacing-0 txC ff-poppins f-weight-400\" style=\"color: rgb(255, 255, 255); padding-right: 10px; padding-left: 10px; font-size: 15px;\">Home</span></a> </li><li style=\"\" data-webbuilderid=\"7\" data-pageid=\"2163\"><a class=\"pagelink\" style=\"border-width: 0px; line-height: 24px;\" href=\"https://lumbini.edu.np/About\"><span class=\"pageName editor-text-letterSpacing-0 txC ff-poppins f-weight-400\" style=\"color: rgb(255, 255, 255); padding-right: 10px; padding-left: 10px; font-size: 15px;\">About</span></a> </li><li class=\" hasChild\" style=\"\" data-webbuilderid=\"8\" data-pageid=\"2164\"><a class=\"pagelink\" style=\"border-width: 0px; line-height: 24px;\" href=\"https://lumbini.edu.np/Academics\"><span class=\"pageName editor-text-letterSpacing-0 txC ff-poppins f-weight-400\" style=\"color: rgb(255, 255, 255); padding-right: 10px; padding-left: 10px; font-size: 15px;\">Academics</span></a> </li><li style=\"\" data-webbuilderid=\"12\" data-pageid=\"2168\"><a class=\"pagelink\" style=\"border-width: 0px; line-height: 24px;\" href=\"https://lumbini.edu.np/Blog\"><span class=\"pageName editor-text-letterSpacing-0 txC ff-poppins f-weight-400\" style=\"color: rgb(255, 255, 255); padding-right: 10px; padding-left: 10px; font-size: 15px;\">Blog</span></a> </li><li style=\"\" data-webbuilderid=\"9\" data-pageid=\"2165\"><a class=\"pagelink\" style=\"border-width: 0px; line-height: 24px;\" href=\"https://lumbini.edu.np/News\"><span class=\"pageName editor-text-letterSpacing-0 txC ff-poppins f-weight-400\" style=\"color: rgb(255, 255, 255); padding-right: 10px; padding-left: 10px; font-size: 15px;\">News</span></a> </li><li class=\" hasChild\" style=\"\" data-webbuilderid=\"15\" data-pageid=\"2171\"><a class=\"pagelink\" style=\"border-width: 0px; line-height: 24px;\" href=\"https://lumbini.edu.np/Gallery\"><span class=\"pageName editor-text-letterSpacing-0 txC ff-poppins f-weight-400\" style=\"color: rgb(255, 255, 255); padding-right: 10px; padding-left: 10px; font-size: 15px;\">Gallery</span></a> </li><li style=\"\" data-webbuilderid=\"10\" data-pageid=\"2166\"><a class=\"pagelink\" style=\"border-width: 0px; line-height: 24px;\" href=\"https://lumbini.edu.np/Contact\"><span class=\"pageName editor-text-letterSpacing-0 txC ff-poppins f-weight-400\" style=\"color: rgb(255, 255, 255); padding-right: 10px; padding-left: 10px; font-size: 15px;\">Contact</span></a> </li><li class=\"Dn\" style=\"\" data-webbuilderid=\"11\" data-pageid=\"2167\"><a class=\"pagelink\" style=\"border-width: 0px; line-height: 24px;\" href=\"https://lumbini.edu.np/Detail\"><span class=\"pageName editor-text-letterSpacing-0 txC ff-poppins f-weight-400\" style=\"color: rgb(255, 255, 255); padding-right: 10px; padding-left: 10px; font-size: 15px;\">Detail</span></a> </li><li class=\"Dn\" style=\"\" data-webbuilderid=\"13\" data-pageid=\"2169\"><a class=\"pagelink\" style=\"border-width: 0px; line-height: 24px;\" href=\"https://lumbini.edu.np/Blog-Detail\"><span class=\"pageName editor-text-letterSpacing-0 txC ff-poppins f-weight-400\" style=\"color: rgb(255, 255, 255); padding-right: 10px; padding-left: 10px; font-size: 15px;\">Blog Detail</span></a> </li><li class=\"Dn\" style=\"\" data-webbuilderid=\"14\" data-pageid=\"2170\"><a class=\"pagelink\" style=\"border-width: 0px; line-height: 24px;\" href=\"https://lumbini.edu.np/Event-Detail\"><span class=\"pageName editor-text-letterSpacing-0 txC ff-poppins f-weight-400\" style=\"color: rgb(255, 255, 255); padding-right: 10px; padding-left: 10px; font-size: 15px;\">Event Detail</span></a> </li><li class=\"Dn\" style=\"\" data-webbuilderid=\"16\" data-pageid=\"2172\"><a class=\"pagelink\" style=\"border-width: 0px; line-height: 24px;\" href=\"https://lumbini.edu.np/Course-detail\"><span class=\"pageName editor-text-letterSpacing-0 txC ff-poppins f-weight-400\" style=\"color: rgb(255, 255, 255); padding-right: 10px; padding-left: 10px; font-size: 15px;\">Course detail</span></a></li><li class=\"Dn\" style=\"\" data-webbuilderid=\"17\" data-pageid=\"2173\"><a class=\"pagelink active-page\" style=\"border-width: 0px; line-height: 24px;\" href=\"https://lumbini.edu.np/Downloads\"><span class=\"pageName editor-text-letterSpacing-0 txC ff-poppins f-weight-400\" style=\"color: rgb(255, 255, 255); padding-right: 10px; padding-left: 10px; font-size: 15px;\">Downloads</span></a></li><li class=\"Dn\" style=\"\" data-webbuilderid=\"18\" data-pageid=\"2175\"><a class=\"pagelink\" style=\"border-width: 0px; line-height: 24px;\" href=\"https://lumbini.edu.np/Department\"><span class=\"pageName editor-text-letterSpacing-0 txC ff-poppins f-weight-400\" style=\"color: rgb(255, 255, 255); padding-right: 10px; padding-left: 10px; font-size: 15px;\">Department</span></a></li><li class=\"Dn\" style=\"\" data-webbuilderid=\"19\" data-pageid=\"2176\"><a class=\"pagelink\" style=\"border-width: 0px; line-height: 24px;\" href=\"https://lumbini.edu.np/Administrative-Department\"><span class=\"pageName editor-text-letterSpacing-0 txC ff-poppins f-weight-400\" style=\"color: rgb(255, 255, 255); padding-right: 10px; padding-left: 10px; font-size: 15px;\">Administrative Department</span></a></li><li class=\"Dn\" style=\"\" data-webbuilderid=\"20\" data-pageid=\"2177\"><a class=\"pagelink\" style=\"border-width: 0px; line-height: 24px;\" href=\"https://lumbini.edu.np/Achievement\"><span class=\"pageName editor-text-letterSpacing-0 txC ff-poppins f-weight-400\" style=\"color: rgb(255, 255, 255); padding-right: 10px; padding-left: 10px; font-size: 15px;\">Achievement</span></a></li><li class=\"Dn\" style=\"\" data-webbuilderid=\"21\" data-pageid=\"2178\"><a class=\"pagelink\" style=\"border-width: 0px; line-height: 24px;\" href=\"https://lumbini.edu.np/Department-Detail\"><span class=\"pageName editor-text-letterSpacing-0 txC ff-poppins f-weight-400\" style=\"color: rgb(255, 255, 255); padding-right: 10px; padding-left: 10px; font-size: 15px;\">Department Detail</span></a></li><li class=\"Dn\" style=\"\" data-webbuilderid=\"23\" data-pageid=\"2179\"><a class=\"pagelink\" style=\"border-width: 0px; line-height: 24px;\" href=\"https://lumbini.edu.np/Events\"><span class=\"pageName editor-text-letterSpacing-0 txC ff-poppins f-weight-400\" style=\"color: rgb(255, 255, 255); padding-right: 10px; padding-left: 10px; font-size: 15px;\">Events</span></a></li><li class=\"Dn\" style=\"\" data-webbuilderid=\"24\" data-pageid=\"2180\"><a class=\"pagelink\" style=\"border-width: 0px; line-height: 24px;\" href=\"https://lumbini.edu.np/Notice-Detail\"><span class=\"pageName editor-text-letterSpacing-0 txC ff-poppins f-weight-400\" style=\"color: rgb(255, 255, 255); padding-right: 10px; padding-left: 10px; font-size: 15px;\">Notice Detail</span></a></li><li class=\"Dn\" style=\"\" data-webbuilderid=\"25\" data-pageid=\"2181\"><a class=\"pagelink\" style=\"border-width: 0px; line-height: 24px;\" href=\"https://lumbini.edu.np/notice\"><span class=\"pageName editor-text-letterSpacing-0 txC ff-poppins f-weight-400\" style=\"color: rgb(255, 255, 255); padding-right: 10px; padding-left: 10px; font-size: 15px;\">notice</span></a></li><li class=\"Dn\" style=\"\" data-webbuilderid=\"26\" data-pageid=\"2182\"><a class=\"pagelink\" style=\"border-width: 0px; line-height: 24px;\" href=\"https://lumbini.edu.np/Students\"><span class=\"pageName editor-text-letterSpacing-0 txC ff-poppins f-weight-400\" style=\"color: rgb(255, 255, 255); padding-right: 10px; padding-left: 10px; font-size: 15px;\">Students</span></a></li><li class=\"Dn\" style=\"\" data-webbuilderid=\"27\" data-pageid=\"2183\"><a class=\"pagelink\" style=\"border-width: 0px; line-height: 24px;\" href=\"https://lumbini.edu.np/WelfareUnit\"><span class=\"pageName editor-text-letterSpacing-0 txC ff-poppins f-weight-400\" style=\"color: rgb(255, 255, 255); padding-right: 10px; padding-left: 10px; font-size: 15px;\">WelfareUnit</span></a></li><li class=\"Dn\" style=\"\" data-webbuilderid=\"28\" data-pageid=\"2184\"><a class=\"pagelink\" style=\"border-width: 0px; line-height: 24px;\" href=\"https://lumbini.edu.np/Robotics\"><span class=\"pageName editor-text-letterSpacing-0 txC ff-poppins f-weight-400\" style=\"color: rgb(255, 255, 255); padding-right: 10px; padding-left: 10px; font-size: 15px;\">Robotics</span></a></li><li class=\"Dn\" style=\"\" data-webbuilderid=\"29\" data-pageid=\"2185\"><a class=\"pagelink\" style=\"border-width: 0px; line-height: 24px;\" href=\"https://lumbini.edu.np/noticedetalnew\"><span class=\"pageName editor-text-letterSpacing-0 txC ff-poppins f-weight-400\" style=\"color: rgb(255, 255, 255); padding-right: 10px; padding-left: 10px; font-size: 15px;\">noticedetalnew</span></a></li><li class=\"Dn\" style=\"\" data-webbuilderid=\"30\" data-pageid=\"2186\"><a class=\"pagelink\" style=\"border-width: 0px; line-height: 24px;\" href=\"https://lumbini.edu.np/Notice-Detail-One\"><span class=\"pageName editor-text-letterSpacing-0 txC ff-poppins f-weight-400\" style=\"color: rgb(255, 255, 255); padding-right: 10px; padding-left: 10px; font-size: 15px;\">Notice Detail One</span></a></li><li class=\"Dn\" style=\"\" data-webbuilderid=\"33\" data-pageid=\"2189\"><a class=\"pagelink\" style=\"border-width: 0px; line-height: 24px;\" href=\"https://lumbini.edu.np/Notice-Detail-Two\"><span class=\"pageName editor-text-letterSpacing-0 txC ff-poppins f-weight-400\" style=\"color: rgb(255, 255, 255); padding-right: 10px; padding-left: 10px; font-size: 15px;\">Notice Detail Two</span></a></li><li class=\"Dn\" style=\"\" data-webbuilderid=\"37\" data-pageid=\"2197\"><a class=\"pagelink\" style=\"border-width: 0px; line-height: 24px;\" href=\"https://lumbini.edu.np/Application-BE\"><span class=\"pageName editor-text-letterSpacing-0 txC ff-poppins f-weight-400\" style=\"color: rgb(255, 255, 255); padding-right: 10px; padding-left: 10px; font-size: 15px;\">Application BE</span></a></li><li data-pageid=\"2199\" style=\"\" data-webbuilderid=\"39\" class=\"Dn\"><a href=\"https://lumbini.edu.np/ctevt\" class=\"pagelink\" style=\"border-width: 0px; line-height: 24px;\"><span class=\"pageName editor-text-letterSpacing-0 txC ff-poppins f-weight-400\" style=\"color: rgb(255, 255, 255); padding-right: 10px; padding-left: 10px; font-size: 15px;\">ctevt</span></a></li><li data-pageid=\"2200\" style=\"\" data-webbuilderid=\"40\" class=\"Dn\"><a href=\"https://lumbini.edu.np/Application\" class=\"pagelink\" style=\"border-width: 0px; line-height: 24px;\"><span class=\"pageName editor-text-letterSpacing-0 txC ff-poppins f-weight-400\" style=\"color: rgb(255, 255, 255); padding-right: 10px; padding-left: 10px; font-size: 15px;\">Application</span></a></li></ul></nav></div></div></div></div><div class=\"editor-component sfFixed holder tsfCol_100 tDib msfCol_100 mDib sfCol_50\" data-type=\"holder\" data-id=\"140\"><div class=\"editor-col ui-state-default sfFixed sfCol_100\" style=\"min-height:100px;\"><div class=\"editor-component  sociallink  grpStng  sfCol_100  Pt-0 Pr-0 Pb-0 Pl-0 Mt-0 Mr-0 Mb-0 Ml-10 TxAl-r tTxAl-c mTxAl-c\" style=\"background-color: rgba(255, 255, 255, 0); display: block;\" data-type=\"social link\" data-id=\"137\"><div class=\"socialLink mMr-5 Mr-10 tMr-0 tMt-20 mMt-20\"><div class=\"editor-component groupSetting fonticon Dib    tMt-5 tMb-5 tPt-5 tPr-5 tPb-5 tPl-5 mMt-5 mMb-5 mPt-5 mPr-5 mPb-5 mPl-5   Mt-10 Mb-10 Mr-0 Ml-20 tH-34 tW-34 tMl-10 tMr-10 mH-33 mW-33 mMl-10 mMr-10 H-42 W-42 Pt-10 Pr-10 Pb-10 Pl-10\" style=\"border-radius: 78px; width: 50px; height: 50px; color: rgb(221, 221, 221); background-color: rgba(7, 104, 217, 0.918);\" data-type=\"font icon\" data-backgroundimage=\"\" data-backgroundcolor=\"color\" data-id=\"17\"><a class=\"socialAchor Dfx TxAl-c tTxAl-c mTxAl-c TxAl-m tTxAl-c mTxAl-c H-f\" href=\"https://www.facebook.com/lecadmin/\" data-href=\"https://www.facebook.com/lecadmin/\" data-class=\"fa-navicon\"><i class=\"per + tFs-30 mFs-25 fa onhovercolor font-icon fa-facebook-square Fs-26\" style=\"color: rgb(255, 255, 255); font-size: 35px;\"></i></a></div><div class=\"editor-component groupSetting fonticon Dib    tMt-5 tMb-5 tPt-5 tPr-5 tPb-5 tPl-5 mMt-5 mMb-5 mPt-5 mPr-5 mPb-5 mPl-5   Mt-10 Mb-10 Pt-10 Pr-10 Pb-10 Pl-10 H-36 W-36 Mr-0 Ml-20 tH-34 tW-34 tMl-10 tMr-10 mH-33 mW-33 mMl-10 mMr-10\" style=\"border-radius: 61px; color: rgb(221, 221, 221); background-color: rgb(255, 255, 255);\" data-type=\"font icon\" data-backgroundimage=\"\" data-backgroundcolor=\"color\" data-id=\"17\"><a class=\"socialAchor Dfx TxAl-c tTxAl-c mTxAl-c TxAl-m tTxAl-c mTxAl-c H-f\" href=\"http://twitter.com\" data-href=\"http://twitter.com\" data-class=\"fa-twitter\"><i class=\"fa fa-twitter onhovercolor font-icon tFs-16 mFs-16 Fs-16\" style=\"color: rgb(0, 0, 0);\"></i></a></div><div class=\"editor-component groupSetting fonticon Dib    tMt-5 tMb-5 tPt-5 tPr-5 tPb-5 tPl-5 mMt-5 mMb-5 mPt-5 mPr-5 mPb-5 mPl-5   Mt-10 Mb-10 Pt-10 Pr-10 Pb-10 Pl-10 H-36 W-36 Mr-0 Ml-20 tH-34 tW-34 tMl-10 tMr-10 mH-33 mW-33 mMl-10 mMr-10\" style=\"height: 50px; width: 50px; color: rgb(221, 221, 221); background-color: rgb(255, 255, 255); border-radius: 61px;\" data-type=\"font icon\" data-backgroundimage=\"\" data-backgroundcolor=\"color\" data-id=\"17\"><a class=\"socialAchor Dfx TxAl-c tTxAl-c mTxAl-c TxAl-m tTxAl-c mTxAl-c H-f\" href=\"#\" data-href=\"#\" data-class=\"fa-linkedin\"><i class=\"fa fa-linkedin onhovercolor font-icon tFs-30 mFs-25 Fs-16\" style=\"color: rgb(0, 0, 0); font-size: 35px;\"></i></a></div><!-- <div> --></div></div></div></div><div class=\"editor-component sfFixed holder tsfCol_100 tDib msfCol_100 mDib Mt-20 sfCol_100 Pt-30 tPr-0 tPb-0 tPl-0 tMt-35 tPt-30 tTxAl-c mMt-20 mPt-20 mTxAl-c\" style=\"border-style: solid; border-width: 1px 0px 0px; border-color: rgba(255, 255, 255, 0.235);\" data-type=\"holder\" data-backgroundimage=\"\" data-backgroundcolor=\"\" data-id=\"142\"><div class=\"editor-col ui-state-default sfFixed sfCol_100\" style=\"min-height:100px;\"><div class=\"editor-component image imagelink Dib sfCol_5 H-57 msfCol_20 tsfCol_11\" style=\"display: inline-block;\" data-type=\"Image Link\" data-id=\"143\"><a class=\"anchorpage\" href=\"https://lumbini.edu.np/Home\" target=\"_blank\" data-link=\"internal\" data-onepage=\"4693\"><img class=\"editor-image H-57 visProceed\" alt=\"lec8\" src=\"{1}\" data-cimage=\"/Media/lec8.png\"></a></div><div class=\"editor-component paragraph sfFixed text tsfCol_100 msfCol_100 Dib mDib tDib TxAl-r tTxAl-c tMt-20 mTxAl-c mMt-15 sfCol_95\" style=\"display: inline-block;\" data-type=\"text\" data-id=\"144\"><p class=\"editor-para LtrSpc-0 Mt-0 Mr-0 Mb-0 Ml-0 Pt-0 Pr-0 Pb-0 Pl-0 tMt-0 tMr-0 tMb-0 tMl-0 tPt-0 tPr-0 tPb-0 tPl-0 mMt-0 mMr-0 mMb-0 mMl-0 mPt-0 mPr-0 mPb-0 mPl-0 Lh-24 Fs-14 ff-poppins f-weight-400 tFs-14 tLh-24 mLh-20 mFs-14\" style=\"color: rgb(255, 255, 255);\">{0}</p></div><div class=\"editor-component textlink sfCol_100 tsfCol_100 msfCol_100 mTxAl-c tTxAl-c Dib TxAl-r\" data-type=\"text link\" data-id=\"680\"><div class=\"anchorWrapper anylinkstop\"><a href=\"https://www.contentder.com/\" data-linktype=\"2\" style=\"color: rgb(255, 255, 255);\" class=\"onhovercolor mFs-16 tFs-16 Lh-24 LtrSpc-0 tLtrSpc-0 mLtrSpc-0 f-weight-400 Fs-16 ff-null\">Powered By Contentder</a></div></div></div></div></div></div></div></div>',\n",
       "     'componentOrderJson': ['text', 'Image Link'],\n",
       "     'bgImage': 0,\n",
       "     'componentContentLength': {'text0': 98},\n",
       "     'imagePath': 'static/screenshot/2ZXQLYsg8otKPirS.png',\n",
       "     'domain': 'https://lumbini.edu.np/',\n",
       "     'pageUrl': 'https://lumbini.edu.np/Downloads',\n",
       "     'verification': {'user': '', 'status': False},\n",
       "     'scrapeDate': '2021/01/26 04:51:51'}}]}}"
      ]
     },
     "metadata": {},
     "execution_count": 9
    }
   ],
   "source": [
    "res"
   ]
  },
  {
   "cell_type": "code",
   "execution_count": null,
   "metadata": {},
   "outputs": [],
   "source": []
  }
 ]
}