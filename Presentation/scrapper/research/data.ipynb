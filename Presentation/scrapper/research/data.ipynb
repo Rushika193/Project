{
 "metadata": {
  "language_info": {
   "codemirror_mode": {
    "name": "ipython",
    "version": 3
   },
   "file_extension": ".py",
   "mimetype": "text/x-python",
   "name": "python",
   "nbconvert_exporter": "python",
   "pygments_lexer": "ipython3",
   "version": "3.8.5-final"
  },
  "orig_nbformat": 2,
  "kernelspec": {
   "name": "python3",
   "display_name": "Python 3",
   "language": "python"
  }
 },
 "nbformat": 4,
 "nbformat_minor": 2,
 "cells": [
  {
   "source": [
    "from elasticsearch import Elasticsearch\n",
    "import csv"
   ],
   "cell_type": "code",
   "metadata": {},
   "execution_count": 3,
   "outputs": []
  },
  {
   "cell_type": "code",
   "execution_count": 9,
   "metadata": {},
   "outputs": [],
   "source": [
    "es = Elasticsearch(hosts=[{'host': '40.114.92.165', 'port': '9210'}],http_auth=('elastic', 'elastic@123'))"
   ]
  },
  {
   "cell_type": "code",
   "execution_count": 10,
   "metadata": {},
   "outputs": [],
   "source": [
    "data = es.search(index='live_site_data', body={\n",
    "    \"size\": 400,\n",
    "    \"query\": {\n",
    "        \"match_all\": {}\n",
    "    }\n",
    "})"
   ]
  },
  {
   "cell_type": "code",
   "execution_count": 11,
   "metadata": {},
   "outputs": [],
   "source": [
    "datas = data['hits']['hits']"
   ]
  },
  {
   "cell_type": "code",
   "execution_count": 12,
   "metadata": {},
   "outputs": [
    {
     "output_type": "execute_result",
     "data": {
      "text/plain": [
       "{'_index': 'live_site_data',\n",
       " '_type': 'cbuilder_row',\n",
       " '_id': 'WULhPHcB9z14MoqeHHUV',\n",
       " '_score': 1.0,\n",
       " '_source': {'type': 'row',\n",
       "  'properties': {'backgroundImage': False},\n",
       "  'components': ['column', 'heading', 'text'],\n",
       "  'count': [{'heading': 1}, {'text': 1}, {'image': 0}],\n",
       "  'componentCount': 3,\n",
       "  'nodes': ['column'],\n",
       "  'child': [{'type': 'column',\n",
       "    'properties': {'backgroundImage': False},\n",
       "    'components': ['heading', 'text'],\n",
       "    'nodes': ['heading', 'text'],\n",
       "    'child': [{'type': 'heading',\n",
       "      'properties': {'backgroundImage': False},\n",
       "      'components': [],\n",
       "      'nodes': [],\n",
       "      'child': []},\n",
       "     {'type': 'text',\n",
       "      'properties': {'backgroundImage': False},\n",
       "      'components': [],\n",
       "      'nodes': [],\n",
       "      'child': []}]}],\n",
       "  'template': '<div class=\"cRow TxAl-c Pt-90 Pb-40\" data-id=\"656\" data-type=\"row\"><div class=\"editor-row-container container-medium\"><div class=\"cGrid \"><div class=\"editor-col cCol ui-state-default sfFixed  mMt-0 mMb-0 mTxAl-n mTxAl-o mDib tDib tMt-0 tMb-0 tTxAl-n tTxAl-o Pt-0 Pr-0 Pb-0 Pl-0 TxAl-n TxAl-o sfCol_100 tsfCol_100 msfCol_100 mPt-20 mPr-20 mPb-20 mPl-20 tPt-30 tPr-30 tPb-30 tPl-30\" data-type=\"column\"><div class=\"editor-component paragraph heading sfFixed TxAl-n sfCol_100 tsfCol_100 msfCol_100 Dib tDib tTxAl-n mDib mTxAl-n mMb-10 tMb-20\" data-id=\"1844\" data-type=\"heading\" style=\"display: inline-block;\"><h1 style=\"color: rgb(42, 42, 42);\" class=\"editor-para Mt-0 Mr-0 Mb-0 Ml-0 Pt-0 Pr-0 Pb-0 Pl-0 tMt-0 tMr-0 tMb-0 tMl-0 tPt-0 tPr-0 tPb-0 tPl-0 mMt-0 mMr-0 mMb-0 mMl-0 mPt-0 mPr-0 mPb-0 mPl-0 LtrSpc-n-1 Fs-38 Lh-30 mFs-30 mLh-34 tFs-38 tLh-45 ff-raleway f-weight-600\">{0}</h1></div><div class=\"editor-component paragraph sfFixed text tsfCol_100 msfCol_100 Dib TxAl-n tTxAl-n mTxAl-n mDib tDib sfCol_69 Mt-30 Mb-40 mMt-0 mMr-0 mMb-0 mMl-0\" data-id=\"1845\" data-type=\"text\"><p style=\"color: rgb(116, 119, 122);\" class=\"editor-para LtrSpc-0 Mt-0 Mr-0 Mb-0 Ml-0 Pt-0 Pr-0 Pb-0 Pl-0 tFs-18 tMt-0 tMr-0 tMb-0 tMl-0 tPt-0 tPr-0 tPb-0 tPl-0 mFs-16 mMt-0 mMr-0 mMb-0 mMl-0 mPt-0 mPr-0 mPb-0 mPl-0 Lh-24 tLh-22 mLh-20 Fs-18 ff-raleway f-weight-500\">{1}</p></div></div></div></div></div>',\n",
       "  'componentOrderJson': ['heading', 'text'],\n",
       "  'bgImage': 0,\n",
       "  'componentContentLength': {'heading0': 25, 'text0': 168},\n",
       "  'imagePath': 'static/screenshot/CbKPlUBnp9VO90NI.png',\n",
       "  'domain': 'https://cashway.com.np',\n",
       "  'pageUrl': 'https://cashway.com.np/Privacy',\n",
       "  'verification': {'user': '', 'status': False},\n",
       "  'scrapeDate': '2021-01-26 04:08:41.745851+00:00'}}"
      ]
     },
     "metadata": {},
     "execution_count": 12
    }
   ],
   "source": [
    "datas[0]"
   ]
  },
  {
   "cell_type": "code",
   "execution_count": 5,
   "metadata": {},
   "outputs": [],
   "source": [
    "all_keys = []\n",
    "for data in datas:\n",
    "    keys = set().union(*(d.keys() for d in data['_source']['count']))\n",
    "    all_keys.extend([k.lower() for k in keys])\n",
    "\n",
    "all_keys = list(set(all_keys))\n",
    "all_keys.sort()"
   ]
  },
  {
   "cell_type": "code",
   "execution_count": 7,
   "metadata": {},
   "outputs": [],
   "source": [
    "with open('dataset.csv', 'w', newline='') as file:\n",
    "    writer = csv.writer(file)\n",
    "    top_row = ['Id', 'Name']\n",
    "    top_row.extend(all_keys)\n",
    "    writer.writerow(top_row)\n",
    "    for data in datas:\n",
    "        row_data = [data['_id'], 'PlaceHolderName']\n",
    "        count = data['_source']['count']\n",
    "        for key in all_keys:\n",
    "            if key in data['_source']['components']:\n",
    "                row_data.extend([sub[key] for sub in count if key in sub.keys()])\n",
    "            else:\n",
    "                row_data.append(0)\n",
    "        writer.writerow(row_data)"
   ]
  },
  {
   "cell_type": "code",
   "execution_count": null,
   "metadata": {},
   "outputs": [],
   "source": []
  }
 ]
}