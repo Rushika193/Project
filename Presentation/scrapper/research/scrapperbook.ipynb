{
 "metadata": {
  "language_info": {
   "codemirror_mode": {
    "name": "ipython",
    "version": 3
   },
   "file_extension": ".py",
   "mimetype": "text/x-python",
   "name": "python",
   "nbconvert_exporter": "python",
   "pygments_lexer": "ipython3",
   "version": "3.8.5-final"
  },
  "orig_nbformat": 2,
  "kernelspec": {
   "name": "python3",
   "display_name": "Python 3",
   "language": "python"
  }
 },
 "nbformat": 4,
 "nbformat_minor": 2,
 "cells": [
  {
   "cell_type": "code",
   "execution_count": null,
   "metadata": {},
   "outputs": [],
   "source": [
    "from selenium import webdriver\n",
    "from selenium.webdriver.chrome.options import Options\n",
    "import json\n",
    "import numpy"
   ]
  },
  {
   "cell_type": "code",
   "execution_count": null,
   "metadata": {},
   "outputs": [],
   "source": [
    "CHROMEDRIVER_PATH = '/usr/local/bin/chromedriver'\n",
    "WINDOW_SIZE = \"1920,1080\"\n",
    "\n",
    "chrome_options = Options()\n",
    "chrome_options.add_argument(\"--headless\")\n",
    "chrome_options.add_argument(\"--window-size=%s\" % WINDOW_SIZE)\n",
    "chrome_options.add_argument('--no-sandbox')\n",
    "driver = webdriver.Chrome(executable_path=CHROMEDRIVER_PATH,options=chrome_options)"
   ]
  },
  {
   "cell_type": "code",
   "execution_count": null,
   "metadata": {},
   "outputs": [],
   "source": [
    "driver.get('https://delasheshstha.contentder.com/About')"
   ]
  },
  {
   "cell_type": "code",
   "execution_count": null,
   "metadata": {},
   "outputs": [],
   "source": [
    "rows = driver.find_elements_by_class_name('cRow')"
   ]
  },
  {
   "cell_type": "code",
   "execution_count": null,
   "metadata": {},
   "outputs": [],
   "source": [
    "cRows = []\n",
    "advance_component = ['accordion', 'body', 'bar chart', 'carousel', 'search', 'search result', 'contact us', 'dynamic_cmp_detail', 'dynamic_cmp_list', 'google map', 'iFrame', 'image slider', 'imagebanner', 'line chart', 'login status', 'logo slider', 'managepages', 'menu', 'menupages', 'milestone', 'pie chart', 'Policy Info', 'row separator', 'share page', 'user registration', 'siteheader', 'siteheadermenu', 'skill bar', 'SoundCloudPlayer', 'subscribe', 'forgot password', 'login form', 'password recover', '', 'tabs', 'Text editor', 'unsubscribe form', 'verticalcollector', 'verticalcollectors', 'videobanner', 'layer slider', 'dynamic form']\n",
    "for row in rows:\n",
    "    row_data_type = row.get_attribute('data-type')\n",
    "    if row_data_type not in advance_component:\n",
    "        cRows.append(row)\n"
   ]
  },
  {
   "cell_type": "code",
   "execution_count": null,
   "metadata": {},
   "outputs": [],
   "source": [
    "def row_cols(row):\n",
    "    cCols = []\n",
    "    selector = row\n",
    "    editor_row_container = selector.find_elements_by_class_name(\n",
    "        'editor-row-container')\n",
    "    if(len(editor_row_container) > 1):\n",
    "        selector = editor_row_container\n",
    "    editor_row_shaded_layer = selector.find_elements_by_class_name(\n",
    "        'editor-row-shaded-layer')\n",
    "    if(len(editor_row_shaded_layer) > 1):\n",
    "        selector = editor_row_shaded_layer\n",
    "    cGrid = selector.find_element_by_css_selector('.cGrid')\n",
    "    cGrid_divs = decendent(cGrid)\n",
    "    for cGrid_div in cGrid_divs:\n",
    "        if(checkClass(cGrid_div.get_attribute('class'), 'cCol')):\n",
    "            cCols.append(cGrid_div)\n",
    "    return cCols"
   ]
  },
  {
   "cell_type": "code",
   "execution_count": null,
   "metadata": {},
   "outputs": [],
   "source": [
    "def decendent(selector):\n",
    "    node = selector.find_elements_by_xpath(\"*\")\n",
    "    return node"
   ]
  },
  {
   "cell_type": "code",
   "execution_count": null,
   "metadata": {},
   "outputs": [],
   "source": [
    "def checkClass(classes, checkClass):\n",
    "    return classes.find(checkClass) != -1"
   ]
  },
  {
   "cell_type": "code",
   "execution_count": null,
   "metadata": {},
   "outputs": [],
   "source": [
    "def col_traverse(col):\n",
    "    structure = [] # Holds inner structure of the element\n",
    "    components = [] # Holds inner components of the element\n",
    "    nodes = [] # Holds immediate child nodes of the element\n",
    "\n",
    "    # Get all immediate child nodes of the given element\n",
    "    childs = decendent(col)\n",
    "\n",
    "    for child in childs:\n",
    "        current_node = {}\n",
    "\n",
    "        # Get the class of the element\n",
    "        child_class = child.get_attribute('class')\n",
    "\n",
    "        # Check if the node element has \"editor-component\" or \"cCol\" class\n",
    "        if(checkClass(child_class, 'editor-component') or checkClass(child_class, 'cCol')):\n",
    "            data_type = child.get_attribute('data-type')\n",
    "            nodes.append(data_type)\n",
    "            components.append(data_type)\n",
    "            current_node['type'] = data_type\n",
    "        else:\n",
    "            current_node['type'] = \"unknown\"\n",
    "        \n",
    "        # Check for inner node\n",
    "        r_structure, r_components , r_nodes = col_traverse(child)\n",
    "        components.extend(r_components)\n",
    "        current_node['components'] = r_components\n",
    "        current_node['nodes'] = r_nodes\n",
    "        current_node['child'] = r_structure\n",
    "        \n",
    "        # Check if the current_node dict is empty or not\n",
    "        if bool(current_node):\n",
    "            # Check of the node is of unknown data type\n",
    "            if(current_node['type'] == \"unknown\"): # Get the inner data from the dict\n",
    "                structure = current_node['child']\n",
    "                nodes = current_node['nodes']\n",
    "            else:\n",
    "                structure.append(current_node)\n",
    "        else: # If the dict is empty append None instead of empty dict\n",
    "            structure.append(None)\n",
    "            \n",
    "    return structure, components, nodes"
   ]
  },
  {
   "source": [
    "for cRow in cRows:\n",
    "    row_dict = {}\n",
    "    row_components = []\n",
    "    row_nodes = []\n",
    "    row_structure = []\n",
    "    # Row Title is not scraped in structure \n",
    "    cCols = row_cols(cRow)\n",
    "    for cCol in cCols:\n",
    "        col_data_type = cCol.get_attribute('data-type')\n",
    "        # Traverse the column        \n",
    "        structure, components, nodes = col_traverse(cCol)\n",
    "\n",
    "        # Add the col data to row\n",
    "        row_components.append(col_data_type)\n",
    "        row_components.extend(components)\n",
    "        row_nodes.append(col_data_type)\n",
    "\n",
    "        # Create dict for column\n",
    "        col_dict = {}\n",
    "        col_dict['type'] = col_data_type\n",
    "        col_dict['components'] = components\n",
    "        col_dict['nodes'] = nodes\n",
    "        col_dict['child'] = structure\n",
    "\n",
    "        # Append column to row's structure\n",
    "        row_structure.append(col_dict)\n",
    "\n",
    "    components_list = numpy.array(row_components)\n",
    "    component_names, component_counts = numpy.unique(components_list, return_counts=True)\n",
    "    component_names = component_names.tolist()\n",
    "    component_counts = component_counts.tolist()\n",
    "    counts = []\n",
    "    for component_name in component_names:\n",
    "        counts.append(\"{0}:{1}\".format(component_name, component_counts[component_names.index(component_name)]))\n",
    "\n",
    "    # Create dict for row\n",
    "    row_dict['type'] = cRow.get_attribute('data-type')\n",
    "    row_dict['components'] = row_components\n",
    "    row_dict['count'] = counts\n",
    "    row_dict['nodes'] = row_nodes\n",
    "    row_dict['child'] = row_structure\n",
    "    \n",
    "    # Pretty print row object\n",
    "    # print(json.dumps(row_dict, indent=2))\n",
    "    "
   ],
   "cell_type": "code",
   "metadata": {
    "tags": []
   },
   "execution_count": null,
   "outputs": []
  }
 ]
}